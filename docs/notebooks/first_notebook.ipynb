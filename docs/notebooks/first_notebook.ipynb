{
 "cells": [
  {
   "cell_type": "markdown",
   "metadata": {},
   "source": [
    "# First notebook\n",
    "\n",
    "You can write up experiments in notebooks, and they can be generated into Sphinx docs using ```tox -e docs```, and for example set up to run on readthedocs.\n",
    "\n",
    "See [this](https://scikit-surgerytf.readthedocs.io/en/latest/notebooks/tutorial_reusable_code_design.html) and [this](https://scikit-surgerytf.readthedocs.io/en/latest/notebooks/tutorial_reusable_code_example.html) examples.\n",
    "\n",
    "## NOTE:\n",
    "\n",
    "Getting jupyter to run your code in this package relies on 3 things:\n",
    "\n",
    "* You must ensure you start jupyter within the tox environment.\n",
    "\n",
    "```\n",
    "# If not already done.\n",
    "source .tox/py36/bin/activate\n",
    "\n",
    "# Then launch jupyter\n",
    "jupyter notebook\n",
    "```\n",
    "  \n",
    "* Then when you navigate to and run this notebook, select the right kernel (named after your project) from the kernel menu item, in the web browser.\n",
    "\n",
    "* Add project folder to system path, as below."
   ]
  },
  {
   "cell_type": "code",
   "execution_count": 1,
   "metadata": {},
   "outputs": [],
   "source": [
    "# Jupyter notebook sets the cwd to the folder containing the notebook.\n",
    "# So, you want to add the root of the project to the sys path, so modules load correctly.\n",
    "import sys\n",
    "sys.path.append(\"../../\")"
   ]
  }
 ],
 "metadata": {
  "kernelspec": {
   "display_name": "Python 3",
   "language": "python",
   "name": "python3"
  },
  "language_info": {
   "codemirror_mode": {
    "name": "ipython",
    "version": 3
   },
   "file_extension": ".py",
   "mimetype": "text/x-python",
   "name": "python",
   "nbconvert_exporter": "python",
   "pygments_lexer": "ipython3",
   "version": "3.7.0"
  }
 },
 "nbformat": 4,
 "nbformat_minor": 2
}
